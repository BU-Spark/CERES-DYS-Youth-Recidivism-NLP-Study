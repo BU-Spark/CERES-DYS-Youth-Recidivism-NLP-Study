{
 "cells": [
  {
   "cell_type": "code",
   "execution_count": 12,
   "metadata": {},
   "outputs": [],
   "source": [
    "import pandas as pd\n",
    "import openpyxl\n",
    "\n",
    "disc='Disc_noduplicates.xlsx'\n",
    "reci='Recidivism_datesfixed_noduplicates.xlsx'\n",
    "term='Termination_datesfixed_noduplicates.xlsx'\n",
    "trans='Transition_datesfixed_noduplicates.xlsx'\n",
    "yls='YLS_20200421.xlsx'\n",
    "\n",
    "ddis=pd.read_excel(disc)\n",
    "drec=pd.read_excel(reci,sheet_name='Analysis')\n",
    "dter=pd.read_excel(term)\n",
    "dtra=pd.read_excel(trans)\n",
    "dyls=pd.read_excel(yls)\n",
    "\n"
   ]
  },
  {
   "cell_type": "code",
   "execution_count": 13,
   "metadata": {},
   "outputs": [],
   "source": [
    "#Merging See Yunruo's code!\n",
    "def merge_delete(d1,d2):\n",
    "    if len(d1)>len(d2):\n",
    "        new=pd.merge(d1,d2,how='outer',on='MID',suffixes=(False,'_x'))\n",
    "    else:\n",
    "        new=pd.merge(d1,d2,how='outer',on='MID',suffixes=('_x',False))\n",
    "    dup=[x for x in new.columns if '_x' in x]\n",
    "    result=new.drop(dup,axis=1)\n",
    "    return result\n",
    "\n",
    "f1=merge_delete(drec,ddis)\n",
    "f2=merge_delete(f1,dter)\n",
    "f3=merge_delete(f2,dtra)\n",
    "\n",
    "#f3.to_excel(\"output.xlsx\")"
   ]
  },
  {
   "cell_type": "code",
   "execution_count": 14,
   "metadata": {},
   "outputs": [
    {
     "name": "stdout",
     "output_type": "stream",
     "text": [
      "                             DOB        Gender                 YLSI Date  \\\n",
      "MID                                                                        \n",
      "362946              [06/09/1996]        [Male]              [02/16/2017]   \n",
      "371422              [04/17/1996]        [Male]              [03/20/2017]   \n",
      "372861  [05/14/1997, 05/14/1997]  [Male, Male]  [04/06/2017, 10/13/2017]   \n",
      "372863              [01/10/1999]        [Male]              [01/05/2017]   \n",
      "372910              [05/26/1996]        [Male]              [03/14/2017]   \n",
      "...                          ...           ...                       ...   \n",
      "509732              [02/03/2002]      [Female]              [11/14/2019]   \n",
      "509772              [11/16/2001]        [Male]              [09/19/2019]   \n",
      "509775              [01/22/2002]        [Male]              [12/20/2019]   \n",
      "509896              [12/06/2000]        [Male]              [10/31/2019]   \n",
      "509995              [03/20/2001]        [Male]              [01/08/2020]   \n",
      "\n",
      "                                          Reason for YLSI  Custodial Norm   \\\n",
      "MID                                                                          \n",
      "362946  [One month post-release to community reassessm...            [Low]   \n",
      "371422                                          [Initial]            [Low]   \n",
      "372861  [Initial following recommitment, Revocation re...  [Low, Moderate]   \n",
      "372863                                          [Initial]       [Moderate]   \n",
      "372910                           [Six month reassessment]            [Low]   \n",
      "...                                                   ...              ...   \n",
      "509732                                          [Initial]           [High]   \n",
      "509772                                          [Initial]           [High]   \n",
      "509775                                          [Initial]       [Moderate]   \n",
      "509896                                          [Initial]            [Low]   \n",
      "509995                                          [Initial]            [Low]   \n",
      "\n",
      "         Community Norm  Prior and Current  P and C Offense      Family   \\\n",
      "MID                                                                        \n",
      "362946        [Moderate]              [4.0]           [High]       [5.0]   \n",
      "371422             [Low]              [0.0]            [Low]       [0.0]   \n",
      "372861  [Moderate, High]         [5.0, 4.0]     [High, High]  [0.0, 6.0]   \n",
      "372863            [High]              [3.0]           [High]       [3.0]   \n",
      "372910             [Low]              [0.0]            [Low]       [0.0]   \n",
      "...                  ...                ...              ...         ...   \n",
      "509732       [Very High]              [4.0]           [High]       [6.0]   \n",
      "509772       [Very High]              [3.0]           [High]       [6.0]   \n",
      "509775            [High]              [2.0]       [Moderate]       [2.0]   \n",
      "509896        [Moderate]              [1.0]       [Moderate]       [5.0]   \n",
      "509995        [Moderate]              [2.0]       [Moderate]       [5.0]   \n",
      "\n",
      "       Family Risk/Need  ... Leisure/Recreation Leisure/Recreation   \\\n",
      "MID                      ...                                          \n",
      "362946           [High]  ...              [0.0]               [Low]   \n",
      "371422            [Low]  ...              [0.0]               [Low]   \n",
      "372861      [Low, High]  ...         [1.0, 2.0]    [Moderate, High]   \n",
      "372863       [Moderate]  ...              [2.0]              [High]   \n",
      "372910            [Low]  ...              [0.0]               [Low]   \n",
      "...                 ...  ...                ...                 ...   \n",
      "509732           [High]  ...              [2.0]              [High]   \n",
      "509772           [High]  ...              [2.0]              [High]   \n",
      "509775            [Low]  ...              [3.0]              [High]   \n",
      "509896           [High]  ...              [2.0]              [High]   \n",
      "509995           [High]  ...              [2.0]              [High]   \n",
      "\n",
      "       Personality/Behavi Personality/Behavi.1 Attitudes/Orientati  \\\n",
      "MID                                                                  \n",
      "362946              [1.0]           [Moderate]               [0.0]   \n",
      "371422              [0.0]                [Low]               [0.0]   \n",
      "372861         [2.0, 5.0]     [Moderate, High]          [0.0, 2.0]   \n",
      "372863              [1.0]           [Moderate]               [3.0]   \n",
      "372910              [0.0]                [Low]               [0.0]   \n",
      "...                   ...                  ...                 ...   \n",
      "509732              [6.0]               [High]               [2.0]   \n",
      "509772              [6.0]               [High]               [5.0]   \n",
      "509775              [4.0]           [Moderate]               [4.0]   \n",
      "509896              [3.0]           [Moderate]               [2.0]   \n",
      "509995              [4.0]           [Moderate]               [2.0]   \n",
      "\n",
      "          A/O Risk/Need YLS/CMI 2.0 Total  Professional  Pro Override   \\\n",
      "MID                                                                      \n",
      "362946            [Low]             [14.0]          [No]         [nan]   \n",
      "371422            [Low]              [0.0]          [No]         [nan]   \n",
      "372861  [Low, Moderate]       [12.0, 27.0]     [No, Yes]   [nan, High]   \n",
      "372863       [Moderate]             [25.0]          [No]         [nan]   \n",
      "372910            [Low]              [0.0]          [No]         [nan]   \n",
      "...                 ...                ...           ...           ...   \n",
      "509732       [Moderate]             [31.0]          [No]         [nan]   \n",
      "509772           [High]             [32.0]          [No]         [nan]   \n",
      "509775           [High]             [25.0]          [No]         [nan]   \n",
      "509896       [Moderate]             [18.0]          [No]         [nan]   \n",
      "509995       [Moderate]             [19.0]          [No]         [nan]   \n",
      "\n",
      "                                          Reason for Pro   \n",
      "MID                                                        \n",
      "362946                                              [nan]  \n",
      "371422                                              [nan]  \n",
      "372861  [nan, Client is 20 yrs. old and has spent much...  \n",
      "372863                                              [nan]  \n",
      "372910                                              [nan]  \n",
      "...                                                   ...  \n",
      "509732                                              [nan]  \n",
      "509772                                              [nan]  \n",
      "509775                                              [nan]  \n",
      "509896                                              [nan]  \n",
      "509995                                              [nan]  \n",
      "\n",
      "[919 rows x 26 columns]\n",
      "MID_nodup: 919\n"
     ]
    }
   ],
   "source": [
    "#YLS merging part and check\n",
    "title=list(dyls.columns)\n",
    "title.remove('MID')\n",
    "\n",
    "\n",
    "dl=[]\n",
    "for x in title:\n",
    "    result=dyls.groupby(['MID'])[x].apply(list)\n",
    "    dl.append(result)\n",
    "\n",
    "\n",
    "basic=pd.merge(dl[0],dl[1],on='MID')\n",
    "for i in range(2,len(dl)):\n",
    "    basic=pd.merge(basic,dl[i],on='MID')\n",
    "print(basic)\n",
    "\n",
    "#check\n",
    "res = [] \n",
    "for i in dyls['MID']: \n",
    "    if i not in res: \n",
    "        res.append(i) \n",
    "print('MID_nodup:',len(res))\n",
    "#basic.to_excel(\"YLS_nodup.xlsx\")\n"
   ]
  },
  {
   "cell_type": "markdown",
   "metadata": {},
   "source": [
    "*Code below are checking part. To correct the typo and check if missing data or not.*"
   ]
  },
  {
   "cell_type": "code",
   "execution_count": 15,
   "metadata": {},
   "outputs": [
    {
     "name": "stdout",
     "output_type": "stream",
     "text": [
      "False\n",
      "True\n",
      "True\n",
      "True\n"
     ]
    }
   ],
   "source": [
    "t1=list(ddis.columns)\n",
    "t2=list(drec.columns)\n",
    "t3=list(dter.columns)\n",
    "t4=list(dtra.columns)\n",
    "\n",
    "def check(inp):\n",
    "    print(inp in t1)\n",
    "    print(inp in t2)\n",
    "    print(inp in t3)\n",
    "    print(inp in t4)\n",
    "check('State')"
   ]
  },
  {
   "cell_type": "code",
   "execution_count": 16,
   "metadata": {},
   "outputs": [
    {
     "name": "stdout",
     "output_type": "stream",
     "text": [
      "['Year', 'Month', 'Quarter', 'Fiscal Year', 'Fiscal Quarter', 'District Office', 'Subseq Disch', 'Age Disc', 'Gen', 'Addr', 'ST', 'zip', 'Initial Cmit', 'Curr  Cmit', 'Age at Initial Cmit', 'Age at Initial Cmit2', 'Disch Date', 'Driving Distance', 'Driving time', 'Order', 'MID.1', 'PCF', 'c1yr', 'Court Desc', 'SPD Desc', 'Age 1st Arrest', 'Year.1']\n",
      "['Home Region', 'Race 2018 Std', 'Ethnicity 2018 Std', 'Primary Language', 'First Commit Date', 'Current Commit Date', 'First Release To Community', 'Gender', 'Birth Date', 'Death Date', 'MSO Committed Code', 'MSO Committed Grid', 'MSO Committed Type', 'Placement Change Reason Detail', 'Placement at Yes Term', 'Current YES Started']\n",
      "['Home Region', 'Birth Date', 'Race 2018 Std', 'Ethnicity 2018 Std', 'CW at YES start', 'Placement at YES', 'Sub-placement at YES', 'MSO Commit Offense', 'MSO Commit Grid', 'MSO Commit Offense Type', 'Recent YLS Norm at Y.E.S.', 'Discharge Date = YES Start Date', 'Days Between Discharge and YES', 'YES Reason', 'Is youth a return Y.E.S.?', 'YES Reason: Employment', 'YES Reason: Education', 'YES Reason: Housing', 'YES Reason: Clinical', 'YES Reason: Case Management', 'YES Reason: Family Engagement', 'YES Reason: Other']\n"
     ]
    }
   ],
   "source": [
    "def diff(form):\n",
    "    different=[x for x in form if x not in t2]\n",
    "    return different\n",
    "print(diff(t1))\n",
    "print(diff(t3))\n",
    "print(diff(t4))"
   ]
  },
  {
   "cell_type": "code",
   "execution_count": 17,
   "metadata": {},
   "outputs": [],
   "source": [
    "codebook='Codebook_quant.xlsx'\n",
    "cb=pd.read_excel(codebook)"
   ]
  },
  {
   "cell_type": "code",
   "execution_count": 18,
   "metadata": {},
   "outputs": [
    {
     "name": "stdout",
     "output_type": "stream",
     "text": [
      "78\n",
      "['c1yr', 'Age 1st Arrest', 'Primary Language', 'Death Date', 'Current Placement', 'Placement Change Reason Detail', 'Placement at Yes Term', 'Sub Placement', 'CW at YES start', 'Placement at YES', 'Sub-placement at YES', 'Recent YLS Norm at Y.E.S.', 'Discharge Date = YES Start Date', 'Days Between Discharge and YES', 'YES Reason', 'Is youth a return Y.E.S.?', 'YES Reason: Employment', 'YES Reason: Education', 'MID', 'Region', 'City', 'County', 'State', 'Biological Sex', 'Race (2018 Std.)', 'Ethnicity (2018 Std)', 'Birthdate', 'MSO Code', 'MSO Committed Offense', 'MSO Grid', 'MSO Offense Type', 'Age at Discharge', 'MA Community Type', 'MA Community Subtype', 'Initial Commitment ', 'Current  Commitment Date', 'Age at Initial Commit', 'Total Days Committed', 'Committed less than 6 months', 'Change Reason', 'Change Reason Detail', 'YES Transition', 'Discharge Date', 'YES Start Date', 'Age Out Date', 'Youthful Offender', 'Committed Until Age', 'Committed Until Age 2', 'First Comm Release', 'Total Community ', 'Total Residential Days', 'Next Placement', 'Most Recent LOS', 'Most Recent YLSI', 'Warrant Return on Discharge Date', 'Detailed Placement on Discharge Date', 'Caseworker at Discharge Date', 'LAST SA Track', 'YES Termed', 'Current YES Duration', 'Current YES Termination', 'Term Due to Commit', 'YES less then 6 months', 'Attainment Prior to Age Out', 'Attainment Date', 'Attainment Prior to Discharge', 'Treatment Program Placement', 'Youth Placement Conditions', 'Placement Prior to Release', 'Treatment End Date', 'Treatment LOS', 'YES Reason: Housing', 'YES Reason: Clinical', 'YES Reason: Case Management', 'YES Reason: Family Engagement', 'YES Reason: Other', 'YES Return', 'Change Reason2']\n"
     ]
    }
   ],
   "source": [
    "variables=list(cb['Original Excel Name'])\n",
    "var=[x for x in variables if x==x]\n",
    "var=var[:18]+var[23:]+['YES Reason: Housing', 'YES Reason: Clinical', 'YES Reason: Case Management', 'YES Reason: Family Engagement', 'YES Reason: Other']\n",
    "var=var[:46]+var[48:]+['YES Return','Change Reason2']\n",
    "dup=[]\n",
    "for x in var:\n",
    "    if x not in dup:\n",
    "        dup.append(x)\n",
    "var=dup\n",
    "print(len(var))\n",
    "print(var)\n",
    "\n",
    "\n"
   ]
  },
  {
   "cell_type": "code",
   "execution_count": 19,
   "metadata": {},
   "outputs": [
    {
     "name": "stdout",
     "output_type": "stream",
     "text": [
      "['State', 'CW at YES start', 'Placement at YES', 'Sub-placement at YES', 'MSO Code', 'MSO Commit Offense', 'MSO Commit Grid', 'MSO Commit Offense Type', 'Recent YLS Norm at Y.E.S.', 'YES Start Date', 'Discharge Date = YES Start Date', 'Days Between Discharge and YES', 'YES Reason', 'Is youth a return Y.E.S.?', 'YES Reason: Employment', 'YES Reason: Education', 'YES Reason: Housing', 'YES Reason: Clinical', 'YES Reason: Case Management', 'YES Reason: Family Engagement', 'YES Reason: Other']\n",
      "['MSO Commit Offense', 'MSO Commit Grid', 'MSO Commit Offense Type'] 3\n"
     ]
    }
   ],
   "source": [
    "f3_title=list(f3.columns)\n",
    "print(f3_title[111:])\n",
    "di=[x for x in f3_title[111:] if x not in var]\n",
    "print(di,len(di))"
   ]
  },
  {
   "cell_type": "code",
   "execution_count": 20,
   "metadata": {},
   "outputs": [],
   "source": [
    "merge_78='merge_78.xlsx'\n",
    "m78=pd.read_excel(merge_78)\n"
   ]
  },
  {
   "cell_type": "code",
   "execution_count": 21,
   "metadata": {},
   "outputs": [
    {
     "name": "stdout",
     "output_type": "stream",
     "text": [
      "['MID', 'Age at Discharge', 'Initial Commitment ', 'Current  Commitment Date', 'Age at Initial Commit', 'c1yr', 'Age 1st Arrest', 'CW at YES start', 'Placement at YES', 'Sub-placement at YES', 'MSO Code', 'Recent YLS Norm at Y.E.S.', 'YES Start Date', 'Discharge Date = YES Start Date', 'Days Between Discharge and YES', 'YES Reason', 'Is youth a return Y.E.S.?', 'YES Reason: Employment', 'YES Reason: Education', 'YES Reason: Housing', 'YES Reason: Clinical', 'YES Reason: Case Management', 'YES Reason: Family Engagement', 'YES Reason: Other', 'Primary Language', 'Age Out Date', 'Current Placement', 'Death Date', 'State', 'MSO Committed Offense', 'Placement Change Reason Detail', 'Placement at Yes Term', 'Sub Placement', 'Current YES Termination', 'Current YES Duration', 'Term Due to Commit', 'Region', 'Birthdate', 'Biological Sex', 'Race (2018 Std.)', 'Ethnicity (2018 Std)', 'City', 'County', 'MA Community Type', 'MA Community Subtype', 'Total Days Committed', 'Committed less than 6 months', 'Discharge Date', 'Change Reason', 'Change Reason Detail', 'YES Transition', 'YES Return', 'Change Reason2', 'MSO Grid', 'MSO Offense Type', 'Youthful Offender', 'Committed Until Age', 'Committed Until Age 2', 'First Comm Release', 'Total Community ', 'Total Residential Days', 'Next Placement', 'Most Recent LOS', 'Most Recent YLSI', 'Warrant Return on Discharge Date', 'Detailed Placement on Discharge Date', 'Caseworker at Discharge Date', 'LAST SA Track', 'YES Termed', 'YES less then 6 months', 'Attainment Prior to Age Out', 'Attainment Date', 'Attainment Prior to Discharge', 'Treatment Program Placement', 'Youth Placement Conditions', 'Placement Prior to Release', 'Treatment End Date', 'Treatment LOS'] 78 78\n"
     ]
    }
   ],
   "source": [
    "final=list(m78.columns)\n",
    "final=final[1:]\n",
    "print(final,len(final),len(var))\n",
    "\n",
    "lack=[x for x in var if x not in final]\n",
    "\n"
   ]
  },
  {
   "cell_type": "code",
   "execution_count": 22,
   "metadata": {},
   "outputs": [
    {
     "name": "stdout",
     "output_type": "stream",
     "text": [
      "80\n",
      "[]\n"
     ]
    }
   ],
   "source": [
    "same=['c1yr', 'Age 1st Arrest', 'Primary Language', 'Death Date', 'Current Placement', 'Placement Change Reason Detail', 'Placement at Yes Term', 'Sub Placement', 'CW at YES start', 'Placement at YES', 'Sub-placement at YES', 'Recent YLS Norm at Y.E.S.', 'Discharge Date = YES Start Date', 'Days Between Discharge and YES', 'YES Reason', 'Is youth a return Y.E.S.?', 'YES Reason: Employment', 'YES Reason: Education', 'YES Reason: Housing', 'YES Reason: Clinical', 'YES Reason: Case Management', 'YES Reason: Family Engagement', 'YES Reason: Other', 'MID', 'Region', 'City', 'County', 'State', 'Biological Sex', 'Race (2018 Std.)', 'Ethnicity (2018 Std)', 'Birthdate', 'MSO Code', 'MSO Committed Offense', 'MSO Grid', 'MSO Offense Type', 'Age at Discharge', 'MA Community Type', 'MA Community Subtype', 'Initial Commitment ', 'Current  Commitment Date', 'Age at Initial Commit', 'Current Placement', 'Sub Placement', 'Total Days Committed', 'Committed less than 6 months', 'Change Reason', 'Change Reason Detail', 'YES Transition', 'Discharge Date', 'YES Start Date', 'YES Return', 'Change Reason2', 'Age Out Date', 'Youthful Offender', 'Committed Until Age', 'Committed Until Age 2', 'First Comm Release', 'Total Community ', 'Total Residential Days', 'Next Placement', 'Most Recent LOS', 'Most Recent YLSI', 'Warrant Return on Discharge Date', 'Detailed Placement on Discharge Date', 'Caseworker at Discharge Date', 'LAST SA Track', 'YES Termed', 'Current YES Duration', 'Current YES Termination', 'Term Due to Commit', 'YES less then 6 months', 'Attainment Prior to Age Out', 'Attainment Date', 'Attainment Prior to Discharge', 'Treatment Program Placement', 'Youth Placement Conditions', 'Placement Prior to Release', 'Treatment End Date', 'Treatment LOS']\n",
    "print(len(same))\n",
    "what=[x for x in var if x not in same]\n",
    "print(what)"
   ]
  },
  {
   "cell_type": "code",
   "execution_count": 26,
   "metadata": {},
   "outputs": [],
   "source": [
    "three='Age Outs for Recidivism_three new variables_0720.xlsx'\n",
    "d3=pd.read_excel(three,sheet_name='Analysis')"
   ]
  },
  {
   "cell_type": "code",
   "execution_count": 32,
   "metadata": {},
   "outputs": [
    {
     "name": "stdout",
     "output_type": "stream",
     "text": [
      "origional: 3356 , no dup: 3265\n",
      "[506349, 503750, 506737, 508590, 507771, 506336, 508354, 508387, 505373, 508309, 508554, 507300, 508698, 503433, 505589, 502856, 506880, 501590, 502888, 504711, 502914, 504130, 506782, 506097, 501540, 503630, 503148, 507607, 505008, 505374, 504610, 506182, 503647, 505161, 505892, 505414, 501681, 504125, 502049, 506195, 501254, 505938, 504750, 500346, 504595, 502701, 500735, 378067, 501147, 500750, 502849, 503505, 502702, 504493, 501558, 502359, 502510, 376658, 501083, 500541, 503299, 372861, 501977, 501712, 500647, 503408, 378537, 500676, 501519, 502158, 501290, 500769, 374172, 377377, 372944, 372741, 501002, 502577, 362946, 374691, 501125, 372910, 373182, 500506, 501196, 501383, 376616, 377794, 500765, 500805, 376702]\n"
     ]
    }
   ],
   "source": [
    "#drop duplicate for new variable\n",
    "check3=d3['MID']\n",
    "uniq3=[]\n",
    "dup3=[]\n",
    "for x in check3:\n",
    "    if x not in uniq3:\n",
    "        uniq3.append(x)\n",
    "    else:\n",
    "        dup3.append(x)\n",
    "print('origional:',len(check3),', no dup:',len(uniq3))\n",
    "print(dup3)"
   ]
  },
  {
   "cell_type": "code",
   "execution_count": 31,
   "metadata": {},
   "outputs": [
    {
     "name": "stdout",
     "output_type": "stream",
     "text": [
      "3265\n",
      "      YEAR of Discharge Month of Discharge Quarter Fiscal Year Fiscal Quarter  \\\n",
      "0                  2020                Jun      Q2     FY 2020            FQ4   \n",
      "1                  2020                Jun      Q2     FY 2020            FQ4   \n",
      "2                  2020                Jun      Q2     FY 2020            FQ4   \n",
      "3                  2020                Jun      Q2     FY 2020            FQ4   \n",
      "4                  2020                Jun      Q2     FY 2020            FQ4   \n",
      "...                 ...                ...     ...         ...            ...   \n",
      "3351               2012                Jan      Q1     FY 2012            FQ3   \n",
      "3352               2012                Jan      Q1     FY 2012            FQ3   \n",
      "3353               2012                Jan      Q1     FY 2012            FQ3   \n",
      "3354               2012                Jan      Q1     FY 2012            FQ3   \n",
      "3355               2012                Jan      Q1     FY 2012            FQ3   \n",
      "\n",
      "         Region              District Office     MID Subsequent Discharge  \\\n",
      "0       Western  Springfield District Office  508223                   No   \n",
      "1       Western      Holyoke District Office  506063                   No   \n",
      "2       Western      Holyoke District Office  506507                   No   \n",
      "3     Southeast     Randolph District Office  507928                   No   \n",
      "4     Southeast     Randolph District Office  508837                   No   \n",
      "...         ...                          ...     ...                  ...   \n",
      "3351    Central    Fitchburg District Office  362996                   No   \n",
      "3352    Central    Worcester District Office  362455                   No   \n",
      "3353    Western  Springfield District Office  360566                   No   \n",
      "3354      Metro      Roxbury District Office  368671                   No   \n",
      "3355  Northeast  Somerville Satellite Office  364433                   No   \n",
      "\n",
      "                Birthdate  ...      Attainment Date  \\\n",
      "0                   37436  ...                  NaN   \n",
      "1                   37434  ...  2019-11-22 00:00:00   \n",
      "2                   37432  ...                  NaN   \n",
      "3                   37432  ...                  NaN   \n",
      "4                   37431  ...                  NaN   \n",
      "...                   ...  ...                  ...   \n",
      "3351  1994-01-03 00:00:00  ...                  NaN   \n",
      "3352  1994-01-03 00:00:00  ...                  NaN   \n",
      "3353  1994-01-02 00:00:00  ...                  NaN   \n",
      "3354  1994-01-01 00:00:00  ...                  NaN   \n",
      "3355  1994-01-01 00:00:00  ...                  NaN   \n",
      "\n",
      "     Attainment Prior to Discharge         Treatment Program Placement  \\\n",
      "0                               No  Gandara R.I.S.E. Treatment Program   \n",
      "1                              Yes           RFK South Hadley Girls Tx   \n",
      "2                               No  Gandara R.I.S.E. Treatment Program   \n",
      "3                               No                       Butler Center   \n",
      "4                               No                    Douglass Academy   \n",
      "...                            ...                                 ...   \n",
      "3351                            No              Spectrum REACH Program   \n",
      "3352                            No                       Harvard House   \n",
      "3353                            No      Community Adolescent Treatment   \n",
      "3354                            No                      Pilgrim Center   \n",
      "3355                            No                   New River Academy   \n",
      "\n",
      "     Youth Placement Conditions          Placement Prior to Release  \\\n",
      "0                       SS Only      Community Adolescent Treatment   \n",
      "1                       SS Only           RFK South Hadley Girls Tx   \n",
      "2                       SS Only  Gandara R.I.S.E. Treatment Program   \n",
      "3                       HS Only                       Butler Center   \n",
      "4                       SS Only                    Douglass Academy   \n",
      "...                         ...                                 ...   \n",
      "3351                    SS Only              Spectrum REACH Program   \n",
      "3352                    SS Only                       Harvard House   \n",
      "3353                    SS Only      Community Adolescent Treatment   \n",
      "3354                    SS Only                      Pilgrim Center   \n",
      "3355                    SS Only                   New River Academy   \n",
      "\n",
      "       Treatment End Date Treatment LOS      PCF Commitment Court  \\\n",
      "0     2020-02-04 00:00:00           266  5435647     Springfield    \n",
      "1     2016-12-05 00:00:00           153  5256352      Springfield   \n",
      "2     2020-05-05 00:00:00            56  5381028       Greenfield   \n",
      "3     2018-06-04 00:00:00           242  5398363           Dedham   \n",
      "4     2020-03-26 00:00:00           171  5403071           Quincy   \n",
      "...                   ...           ...      ...              ...   \n",
      "3351  2010-12-03 00:00:00           143  3132626              NaN   \n",
      "3352  2010-03-11 00:00:00           253  3082852              NaN   \n",
      "3353  2010-03-22 00:00:00           314  3110212              NaN   \n",
      "3354  2010-08-25 00:00:00           163  3052770              NaN   \n",
      "3355  2011-04-12 00:00:00           181  3135437              NaN   \n",
      "\n",
      "     Court County   \n",
      "0          Hampden  \n",
      "1          Hampden  \n",
      "2         Franklin  \n",
      "3          Norfolk  \n",
      "4          Norfolk  \n",
      "...            ...  \n",
      "3351           NaN  \n",
      "3352           NaN  \n",
      "3353           NaN  \n",
      "3354           NaN  \n",
      "3355           NaN  \n",
      "\n",
      "[3265 rows x 72 columns]\n"
     ]
    }
   ],
   "source": [
    "no_dup3=d3.drop_duplicates(subset=['MID'],keep='last')\n",
    "print(len(no_dup3))\n",
    "print(no_dup3)"
   ]
  },
  {
   "cell_type": "code",
   "execution_count": 41,
   "metadata": {},
   "outputs": [
    {
     "name": "stdout",
     "output_type": "stream",
     "text": [
      "120    2019-12-26\n",
      "121    2019-12-24\n",
      "122    2019-12-21\n",
      "123    2019-12-19\n",
      "124    2019-12-19\n",
      "          ...    \n",
      "3351   2012-01-03\n",
      "3352   2012-01-03\n",
      "3353   2012-01-02\n",
      "3354   2012-01-01\n",
      "3355   2012-01-01\n",
      "Name: Discharge Date, Length: 3153, dtype: datetime64[ns]\n"
     ]
    }
   ],
   "source": [
    "nd3_no2020= no_dup3[no_dup3['Discharge Date'] < pd.Timestamp(2020,1,1)]\n",
    "print(nd3_no2020['Discharge Date'])\n",
    "nd3_no2020.to_excel('new_variable_nodup2020.xlsx')"
   ]
  },
  {
   "cell_type": "code",
   "execution_count": null,
   "metadata": {},
   "outputs": [],
   "source": []
  }
 ],
 "metadata": {
  "kernelspec": {
   "display_name": "Python 3",
   "language": "python",
   "name": "python3"
  },
  "language_info": {
   "codemirror_mode": {
    "name": "ipython",
    "version": 3
   },
   "file_extension": ".py",
   "mimetype": "text/x-python",
   "name": "python",
   "nbconvert_exporter": "python",
   "pygments_lexer": "ipython3",
   "version": "3.7.6"
  }
 },
 "nbformat": 4,
 "nbformat_minor": 4
}
